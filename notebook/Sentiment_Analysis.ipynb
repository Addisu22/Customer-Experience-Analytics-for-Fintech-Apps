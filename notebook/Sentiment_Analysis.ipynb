{
 "cells": [
  {
   "cell_type": "markdown",
   "id": "73709359",
   "metadata": {},
   "source": []
  },
  {
   "cell_type": "markdown",
   "id": "8dca5ffe",
   "metadata": {},
   "source": [
    "# Task 2: Sentiment and Thematic Analysis"
   ]
  },
  {
   "cell_type": "code",
   "execution_count": 3,
   "id": "f73cb6e8",
   "metadata": {},
   "outputs": [],
   "source": [
    "# %pip install pandas transformers torch vaderSentiment\n",
    "# %pip install vaderSentiment pandas"
   ]
  },
  {
   "cell_type": "code",
   "execution_count": null,
   "id": "b2d0ca22",
   "metadata": {},
   "outputs": [],
   "source": []
  }
 ],
 "metadata": {
  "kernelspec": {
   "display_name": "Python 3",
   "language": "python",
   "name": "python3"
  },
  "language_info": {
   "codemirror_mode": {
    "name": "ipython",
    "version": 3
   },
   "file_extension": ".py",
   "mimetype": "text/x-python",
   "name": "python",
   "nbconvert_exporter": "python",
   "pygments_lexer": "ipython3",
   "version": "3.11.0"
  }
 },
 "nbformat": 4,
 "nbformat_minor": 5
}
