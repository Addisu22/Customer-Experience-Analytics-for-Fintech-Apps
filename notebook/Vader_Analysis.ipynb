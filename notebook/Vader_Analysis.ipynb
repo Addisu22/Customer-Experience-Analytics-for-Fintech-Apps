{
 "cells": [
  {
   "cell_type": "markdown",
   "id": "15bd150b",
   "metadata": {},
   "source": []
  },
  {
   "cell_type": "code",
   "execution_count": null,
   "id": "f75dba61",
   "metadata": {},
   "outputs": [],
   "source": []
  },
  {
   "cell_type": "code",
   "execution_count": 3,
   "id": "1bd27baa",
   "metadata": {},
   "outputs": [
    {
     "ename": "ValueError",
     "evalue": "Missing column in dataset: review",
     "output_type": "error",
     "traceback": [
      "\u001b[31m---------------------------------------------------------------------------\u001b[39m",
      "\u001b[31mValueError\u001b[39m                                Traceback (most recent call last)",
      "\u001b[36mCell\u001b[39m\u001b[36m \u001b[39m\u001b[32mIn[3]\u001b[39m\u001b[32m, line 8\u001b[39m\n\u001b[32m      5\u001b[39m \u001b[38;5;28;01mfrom\u001b[39;00m\u001b[38;5;250m \u001b[39m\u001b[34;01mvader_sentiment_analysis\u001b[39;00m\u001b[38;5;250m \u001b[39m\u001b[38;5;28;01mimport\u001b[39;00m load_reviews, apply_vader_sentiment, aggregate_sentiment_by_bank_rating, save_results\n\u001b[32m      7\u001b[39m \u001b[38;5;66;03m# Step 1: Load cleaned reviews\u001b[39;00m\n\u001b[32m----> \u001b[39m\u001b[32m8\u001b[39m df_reviews = \u001b[43mload_reviews\u001b[49m\u001b[43m(\u001b[49m\u001b[33;43m\"\u001b[39;49m\u001b[33;43m../cleaned_reviews.csv\u001b[39;49m\u001b[33;43m\"\u001b[39;49m\u001b[43m)\u001b[49m\n\u001b[32m     10\u001b[39m \u001b[38;5;66;03m# Step 2: Apply VADER sentiment analysis\u001b[39;00m\n\u001b[32m     11\u001b[39m df_with_sentiment = apply_vader_sentiment(df_reviews)\n",
      "\u001b[36mFile \u001b[39m\u001b[32mc:\\Users\\Belay\\Customer-Experience-Analytics-for-Fintech-Apps\\scripts\\vader_sentiment_analysis.py:14\u001b[39m, in \u001b[36mload_reviews\u001b[39m\u001b[34m(csv_path)\u001b[39m\n\u001b[32m     12\u001b[39m \u001b[38;5;28;01mfor\u001b[39;00m col \u001b[38;5;129;01min\u001b[39;00m required_columns:\n\u001b[32m     13\u001b[39m     \u001b[38;5;28;01mif\u001b[39;00m col \u001b[38;5;129;01mnot\u001b[39;00m \u001b[38;5;129;01min\u001b[39;00m df.columns:\n\u001b[32m---> \u001b[39m\u001b[32m14\u001b[39m         \u001b[38;5;28;01mraise\u001b[39;00m \u001b[38;5;167;01mValueError\u001b[39;00m(\u001b[33mf\u001b[39m\u001b[33m\"\u001b[39m\u001b[33mMissing column in dataset: \u001b[39m\u001b[38;5;132;01m{\u001b[39;00mcol\u001b[38;5;132;01m}\u001b[39;00m\u001b[33m\"\u001b[39m)\n\u001b[32m     15\u001b[39m df.dropna(subset=[\u001b[33m\"\u001b[39m\u001b[33mreview\u001b[39m\u001b[33m\"\u001b[39m], inplace=\u001b[38;5;28;01mTrue\u001b[39;00m)\n\u001b[32m     16\u001b[39m \u001b[38;5;28;01mreturn\u001b[39;00m df\n",
      "\u001b[31mValueError\u001b[39m: Missing column in dataset: review"
     ]
    }
   ],
   "source": [
    "import os\n",
    "import sys\n",
    "sys.path.append(os.path.abspath(\"../\"))\n",
    "\n",
    "from vader_sentiment_analysis import load_reviews, apply_vader_sentiment, aggregate_sentiment_by_bank_rating, save_results\n",
    "\n",
    "# Step 1: Load cleaned reviews\n",
    "df_reviews = load_reviews(\"../cleaned_reviews.csv\")\n",
    "\n",
    "# Step 2: Apply VADER sentiment analysis\n",
    "df_with_sentiment = apply_vader_sentiment(df_reviews)\n",
    "\n",
    "# Step 3: Save reviews with sentiment\n",
    "save_results(df_with_sentiment, \"../data/reviews_with_vader_sentiment.csv\")\n",
    "\n",
    "# Step 4: Aggregate by bank and rating\n",
    "agg_sentiment = aggregate_sentiment_by_bank_rating(df_with_sentiment)\n",
    "\n",
    "# Step 5: View the result\n",
    "print(agg_sentiment)"
   ]
  }
 ],
 "metadata": {
  "kernelspec": {
   "display_name": "Python 3",
   "language": "python",
   "name": "python3"
  },
  "language_info": {
   "codemirror_mode": {
    "name": "ipython",
    "version": 3
   },
   "file_extension": ".py",
   "mimetype": "text/x-python",
   "name": "python",
   "nbconvert_exporter": "python",
   "pygments_lexer": "ipython3",
   "version": "3.11.0"
  }
 },
 "nbformat": 4,
 "nbformat_minor": 5
}
