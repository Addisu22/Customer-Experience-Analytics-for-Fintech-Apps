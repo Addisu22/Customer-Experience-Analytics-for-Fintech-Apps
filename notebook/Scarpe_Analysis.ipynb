{
 "cells": [
  {
   "cell_type": "markdown",
   "id": "8c59738b",
   "metadata": {},
   "source": [
    "# Task 1: Data Collection and Preprocessing"
   ]
  },
  {
   "cell_type": "code",
   "execution_count": 6,
   "id": "3cfa424e",
   "metadata": {},
   "outputs": [],
   "source": [
    "# %pip install google_play_scraper\n",
    "# %pip install matplotlib\n",
    "# %pip install seaborn"
   ]
  },
  {
   "cell_type": "code",
   "execution_count": 6,
   "id": "910451a3",
   "metadata": {},
   "outputs": [],
   "source": [
    "from google_play_scraper import Sort, reviews\n",
    "import os\n",
    "import sys\n",
    "import pandas as pd\n",
    "import matplotlib.pyplot as plt\n",
    "import seaborn as sns\n",
    "import numpy as np  \n",
    "import warnings\n",
    "warnings.filterwarnings('ignore')\n",
    "sys.path.append(os.path.abspath(\"../scripts\"))\n"
   ]
  },
  {
   "cell_type": "code",
   "execution_count": 7,
   "id": "0663677f",
   "metadata": {},
   "outputs": [
    {
     "name": "stdout",
     "output_type": "stream",
     "text": [
      "c:\\Users\\Belay\\Customer-Experience-Analytics-for-Fintech-Apps\n"
     ]
    }
   ],
   "source": [
    "os.chdir('..')  # Go up a directory\n",
    "print(os.getcwd())"
   ]
  },
  {
   "cell_type": "code",
   "execution_count": 11,
   "id": "c687ae45",
   "metadata": {},
   "outputs": [
    {
     "ename": "ModuleNotFoundError",
     "evalue": "No module named 'scrape_reviews_eng'",
     "output_type": "error",
     "traceback": [
      "\u001b[31m---------------------------------------------------------------------------\u001b[39m",
      "\u001b[31mModuleNotFoundError\u001b[39m                       Traceback (most recent call last)",
      "\u001b[36mCell\u001b[39m\u001b[36m \u001b[39m\u001b[32mIn[11]\u001b[39m\u001b[32m, line 1\u001b[39m\n\u001b[32m----> \u001b[39m\u001b[32m1\u001b[39m \u001b[38;5;28;01mfrom\u001b[39;00m\u001b[38;5;250m \u001b[39m\u001b[34;01mscrape_reviews_eng\u001b[39;00m\u001b[38;5;250m \u001b[39m\u001b[38;5;28;01mimport\u001b[39;00m scrap_review_eng\n\u001b[32m      2\u001b[39m \u001b[38;5;28;01mfrom\u001b[39;00m\u001b[38;5;250m \u001b[39m\u001b[34;01mscrape_review_amh\u001b[39;00m\u001b[38;5;250m \u001b[39m\u001b[38;5;28;01mimport\u001b[39;00m scrape_reviews_amh\n\u001b[32m      3\u001b[39m \u001b[38;5;28;01mif\u001b[39;00m \u001b[34m__name__\u001b[39m == \u001b[33m\"\u001b[39m\u001b[33m__main__\u001b[39m\u001b[33m\"\u001b[39m:\n",
      "\u001b[31mModuleNotFoundError\u001b[39m: No module named 'scrape_reviews_eng'"
     ]
    }
   ],
   "source": [
    "from scrape_reviews_eng import scrap_review_eng\n",
    "from scrape_review_amh import scrape_reviews_amh\n",
    "if __name__ == \"__main__\":\n",
    "    apps = {\n",
    "        \"CBE\": \"com.combanketh.mobilebanking\",\n",
    "        \"BOA\": \"com.boa.boaMobileBanking\",\n",
    "        \"Dashen\": \"com.dashen.dashensuperapp\"\n",
    "    }\n",
    "\n",
    "    all_data = []\n",
    "    for bank, app_id in apps.items():\n",
    "        all_data.extend(scrape_reviews(app_id, bank))\n",
    "\n",
    "    df = pd.DataFrame(all_data)\n",
    "    df.to_csv(\"raw_reviews.csv\", index=False)"
   ]
  }
 ],
 "metadata": {
  "kernelspec": {
   "display_name": "Python 3",
   "language": "python",
   "name": "python3"
  },
  "language_info": {
   "codemirror_mode": {
    "name": "ipython",
    "version": 3
   },
   "file_extension": ".py",
   "mimetype": "text/x-python",
   "name": "python",
   "nbconvert_exporter": "python",
   "pygments_lexer": "ipython3",
   "version": "3.11.0"
  }
 },
 "nbformat": 4,
 "nbformat_minor": 5
}
