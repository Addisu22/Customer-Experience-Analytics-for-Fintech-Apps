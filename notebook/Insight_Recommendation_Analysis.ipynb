{
 "cells": [
  {
   "cell_type": "markdown",
   "id": "15bd150b",
   "metadata": {},
   "source": []
  },
  {
   "cell_type": "code",
   "execution_count": 10,
   "id": "f75dba61",
   "metadata": {},
   "outputs": [],
   "source": [
    "import pandas as pd\n",
    "from vaderSentiment.vaderSentiment import SentimentIntensityAnalyzer\n",
    "import logging\n",
    "\n",
    "logging.basicConfig(level=logging.INFO)\n",
    "\n",
    "def load_reviews(csv_path: str) -> pd.DataFrame:\n",
    "    df = pd.read_csv(csv_path)\n",
    "    required_columns = ['Review', 'Rating', 'Bank']\n",
    "    for col in required_columns:\n",
    "        if col not in df.columns:\n",
    "            raise ValueError(f\"Missing column in dataset: {col}\")\n",
    "    df.dropna(subset=[\"Review\"], inplace=True)\n",
    "    return df\n",
    "\n",
    "\n",
    "def apply_vader_sentiment(df: pd.DataFrame) -> pd.DataFrame:\n",
    "    analyzer = SentimentIntensityAnalyzer()\n",
    "\n",
    "    def get_sentiment_label(text: str) -> str:\n",
    "        score = analyzer.polarity_scores(text)[\"compound\"]\n",
    "        if score >= 0.05:\n",
    "            return \"positive\"\n",
    "        elif score <= -0.05:\n",
    "            return \"negative\"\n",
    "        else:\n",
    "            return \"neutral\"\n",
    "\n",
    "    df[\"vader_score\"] = df[\"Review\"].astype(str).apply(lambda x: analyzer.polarity_scores(x)[\"compound\"])\n",
    "    df[\"vader_label\"] = df[\"Review\"].astype(str).apply(get_sentiment_label)\n",
    "    return df\n",
    "\n",
    "\n",
    "def aggregate_sentiment_by_bank_rating(df: pd.DataFrame) -> pd.DataFrame:\n",
    "    agg = df.groupby([\"Bank\", \"Rating\"])[\"vader_label\"].value_counts(normalize=True).unstack().fillna(0)\n",
    "    return agg\n",
    "\n",
    "\n",
    "def save_results(df: pd.DataFrame, path: str):\n",
    "    df.to_csv(path, index=False)\n",
    "    logging.info(f\"Saved sentiment-labeled data to: {path}\")\n"
   ]
  },
  {
   "cell_type": "code",
   "execution_count": 11,
   "id": "1bd27baa",
   "metadata": {},
   "outputs": [
    {
     "ename": "ValueError",
     "evalue": "Missing column in dataset: Review",
     "output_type": "error",
     "traceback": [
      "\u001b[31m---------------------------------------------------------------------------\u001b[39m",
      "\u001b[31mValueError\u001b[39m                                Traceback (most recent call last)",
      "\u001b[36mCell\u001b[39m\u001b[36m \u001b[39m\u001b[32mIn[11]\u001b[39m\u001b[32m, line 8\u001b[39m\n\u001b[32m      3\u001b[39m sys.path.append(os.path.abspath(\u001b[33m\"\u001b[39m\u001b[33m../\u001b[39m\u001b[33m\"\u001b[39m))\n\u001b[32m      5\u001b[39m \u001b[38;5;66;03m# from vader_sentiment_analysis import load_reviews, apply_vader_sentiment, aggregate_sentiment_by_bank_rating, save_results\u001b[39;00m\n\u001b[32m      6\u001b[39m \n\u001b[32m      7\u001b[39m \u001b[38;5;66;03m# Step 1: Load cleaned reviews\u001b[39;00m\n\u001b[32m----> \u001b[39m\u001b[32m8\u001b[39m df_reviews = \u001b[43mload_reviews\u001b[49m\u001b[43m(\u001b[49m\u001b[33;43m\"\u001b[39;49m\u001b[33;43mcleaned_reviews.csv\u001b[39;49m\u001b[33;43m\"\u001b[39;49m\u001b[43m)\u001b[49m\n\u001b[32m     10\u001b[39m \u001b[38;5;66;03m# Step 2: Apply VADER sentiment analysis\u001b[39;00m\n\u001b[32m     11\u001b[39m df_with_sentiment = apply_vader_sentiment(df_reviews)\n",
      "\u001b[36mCell\u001b[39m\u001b[36m \u001b[39m\u001b[32mIn[10]\u001b[39m\u001b[32m, line 12\u001b[39m, in \u001b[36mload_reviews\u001b[39m\u001b[34m(csv_path)\u001b[39m\n\u001b[32m     10\u001b[39m \u001b[38;5;28;01mfor\u001b[39;00m col \u001b[38;5;129;01min\u001b[39;00m required_columns:\n\u001b[32m     11\u001b[39m     \u001b[38;5;28;01mif\u001b[39;00m col \u001b[38;5;129;01mnot\u001b[39;00m \u001b[38;5;129;01min\u001b[39;00m df.columns:\n\u001b[32m---> \u001b[39m\u001b[32m12\u001b[39m         \u001b[38;5;28;01mraise\u001b[39;00m \u001b[38;5;167;01mValueError\u001b[39;00m(\u001b[33mf\u001b[39m\u001b[33m\"\u001b[39m\u001b[33mMissing column in dataset: \u001b[39m\u001b[38;5;132;01m{\u001b[39;00mcol\u001b[38;5;132;01m}\u001b[39;00m\u001b[33m\"\u001b[39m)\n\u001b[32m     13\u001b[39m df.dropna(subset=[\u001b[33m\"\u001b[39m\u001b[33mReview\u001b[39m\u001b[33m\"\u001b[39m], inplace=\u001b[38;5;28;01mTrue\u001b[39;00m)\n\u001b[32m     14\u001b[39m \u001b[38;5;28;01mreturn\u001b[39;00m df\n",
      "\u001b[31mValueError\u001b[39m: Missing column in dataset: Review"
     ]
    }
   ],
   "source": [
    "import os\n",
    "import sys\n",
    "sys.path.append(os.path.abspath(\"../\"))\n",
    "\n",
    "# from vader_sentiment_analysis import load_reviews, apply_vader_sentiment, aggregate_sentiment_by_bank_rating, save_results\n",
    "\n",
    "# Step 1: Load cleaned reviews\n",
    "df_reviews = load_reviews(\"cleaned_reviews.csv\")\n",
    "\n",
    "# Step 2: Apply VADER sentiment analysis\n",
    "df_with_sentiment = apply_vader_sentiment(df_reviews)\n",
    "\n",
    "# Step 3: Save reviews with sentiment\n",
    "save_results(df_with_sentiment, \"reviews_with_vader_sentiment.csv\")\n",
    "\n",
    "# Step 4: Aggregate by bank and rating\n",
    "agg_sentiment = aggregate_sentiment_by_bank_rating(df_with_sentiment)\n",
    "\n",
    "# Step 5: View the result\n",
    "print(agg_sentiment)"
   ]
  }
 ],
 "metadata": {
  "kernelspec": {
   "display_name": "Python 3",
   "language": "python",
   "name": "python3"
  },
  "language_info": {
   "codemirror_mode": {
    "name": "ipython",
    "version": 3
   },
   "file_extension": ".py",
   "mimetype": "text/x-python",
   "name": "python",
   "nbconvert_exporter": "python",
   "pygments_lexer": "ipython3",
   "version": "3.11.0"
  }
 },
 "nbformat": 4,
 "nbformat_minor": 5
}
