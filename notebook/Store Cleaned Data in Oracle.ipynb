{
 "cells": [
  {
   "cell_type": "markdown",
   "id": "53a7f436",
   "metadata": {},
   "source": [
    "# Task 3: Store Cleaned Data in Oracle"
   ]
  },
  {
   "cell_type": "code",
   "execution_count": 2,
   "id": "1cea752d",
   "metadata": {},
   "outputs": [],
   "source": [
    "# %pip install cx_Oracle pandas"
   ]
  },
  {
   "cell_type": "code",
   "execution_count": null,
   "id": "be931ead",
   "metadata": {},
   "outputs": [],
   "source": [
    "import os \n",
    "import sys\n",
    "import pandas as pd\n",
    "import matplotlib.pyplot as plt\n",
    "from google_play_scraper import Sort, reviews\n",
    "import cx_Oracle\n",
    "import pandas as pd\n",
    "from datetime import datetime\n",
    "sys.path.append(os.path.abspath(\"../scripts\"))\n",
    "from bank_reviews_schema_oracle_data import play_store_scrape\n",
    "import warnings\n",
    "warnings.filterwarnings('ignore')"
   ]
  },
  {
   "cell_type": "code",
   "execution_count": 4,
   "id": "2febbb03",
   "metadata": {},
   "outputs": [],
   "source": [
    "# %%\n",
    "os.chdir(\"..\")  # Go up a directory\n",
    "#print(os.getcwd())\n",
    "\n",
    "# %%\n",
    "# print(os.getcwd())"
   ]
  },
  {
   "cell_type": "code",
   "execution_count": null,
   "id": "f23ec70c",
   "metadata": {},
   "outputs": [],
   "source": [
    "def main():\n",
    "    # Load cleaned data\n",
    "    df = pd.read_csv(\"cleaned_reviews.csv\")\n",
    "\n",
    "    # Connect to Oracle XE\n",
    "    conn = connect_to_oracle(\"bank_reviews\", \"StrongPassword\", \"localhost/XEPDB1\")\n",
    "\n",
    "    if conn:\n",
    "        insert_data(conn, df)\n",
    "        conn.close()\n",
    "\n",
    "if __name__ == \"__main__\":\n",
    "    main()\n"
   ]
  }
 ],
 "metadata": {
  "kernelspec": {
   "display_name": "Python 3",
   "language": "python",
   "name": "python3"
  },
  "language_info": {
   "codemirror_mode": {
    "name": "ipython",
    "version": 3
   },
   "file_extension": ".py",
   "mimetype": "text/x-python",
   "name": "python",
   "nbconvert_exporter": "python",
   "pygments_lexer": "ipython3",
   "version": "3.11.0"
  }
 },
 "nbformat": 4,
 "nbformat_minor": 5
}
